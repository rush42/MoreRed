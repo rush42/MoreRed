{
 "cells": [
  {
   "cell_type": "code",
   "execution_count": 1,
   "metadata": {},
   "outputs": [],
   "source": [
    "import os\n",
    "os.environ[\"OMP_NUM_THREADS\"] = \"6\" # export OMP_NUM_THREADS=4\n",
    "os.environ[\"OPENBLAS_NUM_THREADS\"] = \"6\" # export OPENBLAS_NUM_THREADS=4\n",
    "os.environ[\"MKL_NUM_THREADS\"] = \"6\" # export MKL_NUM_THREADS=6"
   ]
  },
  {
   "cell_type": "code",
   "execution_count": 2,
   "metadata": {},
   "outputs": [],
   "source": [
    "from matplotlib import pyplot as plt\n",
    "\n",
    "import torch\n",
    "from torch import nn\n",
    "\n",
    "from omegaconf import OmegaConf\n",
    "from ase.visualize.plot import plot_atoms\n",
    "from ase import Atoms\n",
    "from schnetpack import properties\n",
    "from schnetpack.model import NeuralNetworkPotential\n",
    "import schnetpack.transform as trn\n",
    "from schnetpack.datasets import QM9\n",
    "from tqdm import tqdm\n",
    "import ase\n",
    "\n",
    "from morered.datasets import QM9Filtered, QM7X\n",
    "from morered.noise_schedules import PolynomialSchedule, CosineSchedule\n",
    "from morered.processes import VPGaussianDDPM\n",
    "from morered.utils import scatter_mean, check_validity, generate_bonds_data, batch_center_systems, batch_rmsd\n",
    "from morered.sampling import DDPM, MoreRedJT, MoreRedAS, MoreRedITP, ConsistencySampler\n",
    "from morered import ReverseODE"
   ]
  },
  {
   "cell_type": "markdown",
   "metadata": {},
   "source": [
    "# Paths"
   ]
  },
  {
   "cell_type": "code",
   "execution_count": 3,
   "metadata": {},
   "outputs": [],
   "source": [
    "# path to store the dataset as ASE '.db' files\n",
    "split_file_path = \"./split.npz\"\n",
    "\n",
    "# model path\n",
    "models_path = \"../models\""
   ]
  },
  {
   "cell_type": "markdown",
   "metadata": {},
   "source": [
    "# Load model"
   ]
  },
  {
   "cell_type": "code",
   "execution_count": 4,
   "metadata": {
    "scrolled": true
   },
   "outputs": [
    {
     "name": "stderr",
     "output_type": "stream",
     "text": [
      "/tmp/ipykernel_332786/3042508950.py:2: FutureWarning: You are using `torch.load` with `weights_only=False` (the current default value), which uses the default pickle module implicitly. It is possible to construct malicious pickle data which will execute arbitrary code during unpickling (See https://github.com/pytorch/pytorch/blob/main/SECURITY.md#untrusted-models for more details). In a future release, the default value for `weights_only` will be flipped to `True`. This limits the functions that could be executed during unpickling. Arbitrary objects will no longer be allowed to be loaded via this mode unless they are explicitly allowlisted by the user via `torch.serialization.add_safe_globals`. We recommend you start setting `weights_only=True` for any use case where you don't have full control of the loaded file. Please open an issue on GitHub for any issues related to this experimental feature.\n",
      "  time_predictor = torch.load(os.path.join(models_path, \"qm7x_time_predictor.pt\"), map_location=\"cpu\")\n"
     ]
    }
   ],
   "source": [
    "# time predictor\n",
    "time_predictor = torch.load(os.path.join(models_path, \"qm7x_time_predictor.pt\"), map_location=\"cpu\")"
   ]
  },
  {
   "cell_type": "markdown",
   "metadata": {},
   "source": [
    "# Define sampler"
   ]
  },
  {
   "cell_type": "code",
   "execution_count": 56,
   "metadata": {},
   "outputs": [],
   "source": [
    "# define the noise schedule\n",
    "T = 128\n",
    "noise_schedule = PolynomialSchedule(T=T, s=1e-5, dtype=torch.float64, variance_type=\"lower_bound\")\n",
    "\n",
    "# define the forward diffusion process\n",
    "diff_proc = VPGaussianDDPM(noise_schedule, noise_key=\"eps\", invariant=True, dtype=torch.float64)"
   ]
  },
  {
   "cell_type": "markdown",
   "metadata": {},
   "source": [
    "# Define data loader"
   ]
  },
  {
   "cell_type": "markdown",
   "metadata": {},
   "source": [
    "Define paths"
   ]
  },
  {
   "cell_type": "code",
   "execution_count": 57,
   "metadata": {},
   "outputs": [],
   "source": [
    "tut_path = \"./tut\""
   ]
  },
  {
   "cell_type": "code",
   "execution_count": 58,
   "metadata": {},
   "outputs": [],
   "source": [
    "os.makedirs(tut_path, exist_ok=True)"
   ]
  },
  {
   "cell_type": "markdown",
   "metadata": {},
   "source": [
    "Define data input transformations"
   ]
  },
  {
   "cell_type": "markdown",
   "metadata": {},
   "source": [
    "QM7X"
   ]
  },
  {
   "cell_type": "markdown",
   "metadata": {},
   "source": [
    "NOTE! QM7-X is large. Therefore, it takes time to download the dataset and prepare it"
   ]
  },
  {
   "cell_type": "code",
   "execution_count": 59,
   "metadata": {},
   "outputs": [],
   "source": [
    "transforms=[\n",
    "    trn.CastTo64(),\n",
    "    trn.SubtractCenterOfGeometry(),\n",
    "]"
   ]
  },
  {
   "cell_type": "code",
   "execution_count": 60,
   "metadata": {},
   "outputs": [],
   "source": [
    "# path to store the dataset as ASE '.db' files\n",
    "datapath = os.path.join(tut_path, \"qm7x.db\")"
   ]
  },
  {
   "cell_type": "code",
   "execution_count": 61,
   "metadata": {},
   "outputs": [],
   "source": [
    "data = QM7X(\n",
    "    datapath=datapath,\n",
    "    only_equilibrium=True,\n",
    "    batch_size=1,\n",
    "    split_file=split_file_path,\n",
    "    transforms=transforms,\n",
    "    num_workers=2,\n",
    "    pin_memory=False,\n",
    "    load_properties=[\"rmsd\"],\n",
    ")"
   ]
  },
  {
   "cell_type": "markdown",
   "metadata": {},
   "source": [
    "Prepare dataset"
   ]
  },
  {
   "cell_type": "code",
   "execution_count": 62,
   "metadata": {},
   "outputs": [],
   "source": [
    "# prepare and setup the dataset\n",
    "data.prepare_data()\n",
    "data.setup()"
   ]
  },
  {
   "cell_type": "markdown",
   "metadata": {},
   "source": [
    "# Representation Loss"
   ]
  },
  {
   "cell_type": "markdown",
   "metadata": {},
   "source": [
    "Load a batch"
   ]
  },
  {
   "cell_type": "code",
   "execution_count": 63,
   "metadata": {},
   "outputs": [],
   "source": [
    "# train split here is not the same as during training\n",
    "target = next(iter(data.test_dataloader()))"
   ]
  },
  {
   "cell_type": "code",
   "execution_count": 64,
   "metadata": {},
   "outputs": [],
   "source": [
    "representation = torch.nn.Sequential(trn.CastTo32(), time_predictor.input_modules[0], trn.CastTo32(), time_predictor.representation)\n",
    "rode = ReverseODE(diff_proc, time_predictor)\n",
    "# representation = NeuralNetworkPotential(\n",
    "#     input_modules=time_predictor.input_modules, \n",
    "#     representation=time_predictor.representation,\n",
    "#     output_modules=nn.ModuleList([nn.Identity()])\n",
    "# )"
   ]
  },
  {
   "cell_type": "code",
   "execution_count": 65,
   "metadata": {},
   "outputs": [],
   "source": [
    "timesteps = torch.arange(T).unsqueeze(-1).unsqueeze(-1)\n",
    "traj, _ = diff_proc.diffuse(target[properties.R], idx_m = None, t=timesteps)"
   ]
  },
  {
   "cell_type": "code",
   "execution_count": 104,
   "metadata": {},
   "outputs": [],
   "source": [
    "n = target[properties.n_atoms][0]\n",
    "def vector_norm_loss(target, pred):\n",
    "    diff = pred['vector_representation'] - target['vector_representation']\n",
    "    return diff.detach().norm(dim=1).square().mean() / n\n",
    "\n",
    "def vector_loss(target, pred):\n",
    "    diff = pred['vector_representation'] - target['vector_representation']\n",
    "    return diff.detach().norm().square() / n\n",
    "\n",
    "def scalar_loss(target, pred):\n",
    "    diff = pred['scalar_representation'] - target['scalar_representation']\n",
    "    return diff.detach().norm().square() / n\n"
   ]
  },
  {
   "cell_type": "code",
   "execution_count": 105,
   "metadata": {},
   "outputs": [],
   "source": [
    "batch = {key: val.clone() for key, val in target.items()}\n",
    "\n",
    "target_hat = rode.prepare_batch(target)\n",
    "target_reprs = representation(target_hat)\n",
    "\n",
    "vector_norm_losses = []\n",
    "vector_losses = []\n",
    "scalar_losses = []\n",
    "for i in range(T):\n",
    "    batch[properties.R] = traj[i]\n",
    "    batch_hat = rode.prepare_batch(batch)\n",
    "    batch_reprs = representation(batch_hat)\n",
    "    \n",
    "    vector_norm_losses.append(vector_norm_loss(target_reprs, batch_reprs))\n",
    "    vector_losses.append(vector_loss(target_reprs, batch_reprs))\n",
    "    scalar_losses.append(scalar_loss(target_reprs, batch_reprs))"
   ]
  },
  {
   "cell_type": "code",
   "execution_count": 106,
   "metadata": {},
   "outputs": [
    {
     "data": {
      "image/png": "[encoded data removed]",
      "text/plain": [
       "<Figure size 800x400 with 1 Axes>"
      ]
     },
     "metadata": {},
     "output_type": "display_data"
    }
   ],
   "source": [
    "plt.figure(figsize=(8, 4))\n",
    "plt.xlabel(r\"t\")\n",
    "plt.ylabel(r\"loss\")\n",
    "\n",
    "plt.plot(scalar_losses, '.', label='scalar')\n",
    "plt.plot(vector_losses, '.', label='vector')\n",
    "plt.plot(vector_norm_losses, '.', label='vector (norm)')\n",
    "\n",
    "plt.legend()\n",
    "plt.grid()\n",
    "plt.tight_layout()\n",
    "plt.show()"
   ]
  },
  {
   "cell_type": "markdown",
   "metadata": {},
   "source": [
    "## Tinkering"
   ]
  },
  {
   "cell_type": "code",
   "execution_count": 107,
   "metadata": {},
   "outputs": [],
   "source": [
    "batch = {key: val.clone() for key, val in target.items()}\n",
    "batch[properties.R], _ = diff_proc.diffuse(batch[properties.R], batch[properties.idx_m], t=torch.tensor(1))\n",
    "n = batch[properties.R].shape[0]"
   ]
  },
  {
   "cell_type": "code",
   "execution_count": 108,
   "metadata": {},
   "outputs": [],
   "source": [
    "alpha = torch.tensor(torch.pi)\n",
    "rot_m = torch.Tensor(\n",
    "    [\n",
    "    [torch.cos(alpha), - torch.sin(alpha), 0],\n",
    "    [torch.sin(alpha),    torch.cos(alpha), 0],\n",
    "    [0,                   0,                1]\n",
    "    ]\n",
    ").double()"
   ]
  },
  {
   "cell_type": "code",
   "execution_count": 109,
   "metadata": {},
   "outputs": [],
   "source": [
    "rotated = {key: val.clone() for key, val in target.items()}\n",
    "rotated[properties.R] = target[properties.R] @ rot_m\n",
    "rotated_hat = rode.prepare_batch(rotated)"
   ]
  },
  {
   "cell_type": "code",
   "execution_count": 110,
   "metadata": {},
   "outputs": [],
   "source": [
    "rotated_reprs = representation(rotated_hat)"
   ]
  },
  {
   "cell_type": "code",
   "execution_count": 111,
   "metadata": {},
   "outputs": [
    {
     "name": "stdout",
     "output_type": "stream",
     "text": [
      "vector loss: 1390.33935546875, scalar loss: 1.6112056133721353e-10\n"
     ]
    }
   ],
   "source": [
    "print(f\"vector loss: {vector_loss(target_reprs, rotated_reprs)}, scalar loss: {scalar_loss(target_reprs, rotated_reprs)}\")"
   ]
  },
  {
   "cell_type": "code",
   "execution_count": 112,
   "metadata": {},
   "outputs": [],
   "source": [
    "permuted = {key: val.clone() for key, val in target.items()}\n",
    "# for i in range(n):\n",
    "#     for j in range(i):\n",
    "#         if permuted[properties.Z][i] == permuted[properties.Z][j]:\n",
    "#             permuted[properties.R][i, :], permuted[properties.R][j, :] = permuted[properties.R][j, :], permuted[properties.R][i, :]\n",
    "# permuted[properties.R][-2, :], permuted[properties.R][-1, :] = permuted[properties.R][-1, :], permuted[properties.R][-2, :]\n",
    "permuted_hat = rode.prepare_batch(permuted)"
   ]
  }
 ],
 "metadata": {
  "kernelspec": {
   "display_name": "morered",
   "language": "python",
   "name": "morered"
  },
  "language_info": {
   "codemirror_mode": {
    "name": "ipython",
    "version": 3
   },
   "file_extension": ".py",
   "mimetype": "text/x-python",
   "name": "python",
   "nbconvert_exporter": "python",
   "pygments_lexer": "ipython3",
   "version": "3.12.3"
  }
 },
 "nbformat": 4,
 "nbformat_minor": 4
}
